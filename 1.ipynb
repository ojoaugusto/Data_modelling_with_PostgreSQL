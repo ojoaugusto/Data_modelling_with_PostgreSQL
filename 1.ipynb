{
 "metadata": {
  "language_info": {
   "codemirror_mode": {
    "name": "ipython",
    "version": 3
   },
   "file_extension": ".py",
   "mimetype": "text/x-python",
   "name": "python",
   "nbconvert_exporter": "python",
   "pygments_lexer": "ipython3",
   "version": "3.7.7-final"
  },
  "orig_nbformat": 2,
  "kernelspec": {
   "name": "Python 3.7.7 64-bit ('base': conda)",
   "display_name": "Python 3.7.7 64-bit ('base': conda)",
   "metadata": {
    "interpreter": {
     "hash": "782aa508bb5392275d0e6e3dc44c408e282fc5524fe98677683a6b92c89af866"
    }
   }
  }
 },
 "nbformat": 4,
 "nbformat_minor": 2,
 "cells": [
  {
   "source": [
    "### library used to connect with PostgreSQL"
   ],
   "cell_type": "markdown",
   "metadata": {}
  },
  {
   "cell_type": "code",
   "execution_count": 1,
   "metadata": {},
   "outputs": [],
   "source": [
    "import psycopg2"
   ]
  },
  {
   "source": [
    "This connect to local instance of PostgreSQL\n"
   ],
   "cell_type": "markdown",
   "metadata": {}
  },
  {
   "cell_type": "code",
   "execution_count": 2,
   "metadata": {},
   "outputs": [],
   "source": [
    "conn = psycopg2.connect('host= 127.0.0.1 dbname = sparkify user = joao password = admin')"
   ]
  },
  {
   "source": [
    "the cursor that will use to execute queries"
   ],
   "cell_type": "markdown",
   "metadata": {}
  },
  {
   "cell_type": "code",
   "execution_count": 3,
   "metadata": {},
   "outputs": [],
   "source": [
    "cur = conn.cursor()"
   ]
  },
  {
   "source": [
    "Autocommit - each action is commited without having to call conn.commit() after each command"
   ],
   "cell_type": "markdown",
   "metadata": {}
  },
  {
   "source": [
    "conn.set_session(autocommit = True)"
   ],
   "cell_type": "code",
   "metadata": {},
   "execution_count": 4,
   "outputs": []
  },
  {
   "source": [
    "create table music_library"
   ],
   "cell_type": "markdown",
   "metadata": {}
  },
  {
   "cell_type": "code",
   "execution_count": 6,
   "metadata": {},
   "outputs": [],
   "source": [
    "cur.execute('CREATE TABLE IF NOT EXISTS music_library (album_name varchar, artist_name varchar, year int)')"
   ]
  },
  {
   "source": [
    "selecting the data"
   ],
   "cell_type": "markdown",
   "metadata": {}
  },
  {
   "cell_type": "code",
   "execution_count": 7,
   "metadata": {},
   "outputs": [
    {
     "output_type": "stream",
     "name": "stdout",
     "text": [
      "[]\n"
     ]
    }
   ],
   "source": [
    "cur.execute('SELECT * FROM music_library')\n",
    "\n",
    "print(cur.fetchall())"
   ]
  },
  {
   "cell_type": "code",
   "execution_count": 8,
   "metadata": {},
   "outputs": [],
   "source": [
    "cur.execute('INSERT INTO music_library (album_name, artist_name, year) \\\n",
    "            VALUES (%s, %s, %s)', \\\n",
    "            ('Rubber Soul', 'The Beatles', 1965))"
   ]
  },
  {
   "cell_type": "code",
   "execution_count": 13,
   "metadata": {},
   "outputs": [],
   "source": [
    "cur.execute('DROP TABLE music_library')"
   ]
  },
  {
   "cell_type": "code",
   "execution_count": 9,
   "metadata": {},
   "outputs": [],
   "source": [
    "cur.execute('CREATE TABLE IF NOT EXISTS songs (song_title varchar, artist_name varchar, year int, album_title varchar, is_single Boolean)')"
   ]
  },
  {
   "cell_type": "code",
   "execution_count": 10,
   "metadata": {},
   "outputs": [
    {
     "output_type": "stream",
     "name": "stdout",
     "text": [
      "[]\n"
     ]
    }
   ],
   "source": [
    "cur.execute('SELECT * FROM songs')\n",
    "print(cur.fetchall())"
   ]
  },
  {
   "cell_type": "code",
   "execution_count": 11,
   "metadata": {},
   "outputs": [],
   "source": [
    "cur.execute('INSERT INTO songs (song_title, artist_name, year, album_title, is_single) \\\n",
    "            VALUES (%s, %s, %s, %s, %s)', \\\n",
    "            ('Across The Universe', 'The Beatles', 1970, 'Let It Be', False))"
   ]
  },
  {
   "cell_type": "code",
   "execution_count": 12,
   "metadata": {},
   "outputs": [],
   "source": [
    "cur.execute('INSERT INTO songs (song_title, artist_name, year, album_title, is_single) \\\n",
    "            VALUES (%s, %s, %s, %s, %s)', \\\n",
    "            ('Think For Yourself', 'The Beatles', 1965, 'Rubber Soul', False))"
   ]
  },
  {
   "source": [
    "close cursor and connection"
   ],
   "cell_type": "markdown",
   "metadata": {}
  },
  {
   "cell_type": "code",
   "execution_count": 6,
   "metadata": {},
   "outputs": [],
   "source": [
    "cur.close()\n",
    "conn.close()"
   ]
  },
  {
   "cell_type": "code",
   "execution_count": null,
   "metadata": {},
   "outputs": [],
   "source": []
  }
 ]
}